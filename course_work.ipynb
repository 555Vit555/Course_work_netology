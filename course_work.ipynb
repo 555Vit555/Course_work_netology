{
 "cells": [
  {
   "cell_type": "code",
   "execution_count": 1,
   "metadata": {},
   "outputs": [
    {
     "name": "stdout",
     "output_type": "stream",
     "text": [
      "https://oauth.vk.com/authorize?client_id=51709203&redirect_uri=https%3A%2F%2Foauth.vk.com%2Fblank.html&display=page&scope=status%2Cphoto&response_type=token\n"
     ]
    }
   ],
   "source": [
    "from urllib.parse import urlencode\n",
    "import requests\n",
    "APP_ID= '51709203'\n",
    "OAUTH_BASE_URL = 'https://oauth.vk.com/authorize'\n",
    "params = {'client_id' : APP_ID,          \n",
    "    'redirect_uri' : 'https://oauth.vk.com/blank.html',\n",
    "    'display' : 'page',\n",
    "    'scope' : 'status,photo',\n",
    "    'response_type' : 'token'\n",
    " }\n",
    "oauth_url = f'{OAUTH_BASE_URL}?{urlencode(params)}'\n",
    "print(oauth_url)"
   ]
  },
  {
   "cell_type": "code",
   "execution_count": 24,
   "metadata": {},
   "outputs": [],
   "source": [
    "import requests\n",
    "from operator import itemgetter\n",
    "####\n",
    "#\n",
    "photo_number =  1\n",
    "\n",
    "class VkDownloader:\n",
    "    \n",
    "    API_BASE_URL = 'https://api.vk.com/method'\n",
    "    \n",
    "    def __init__(self, token, user_id):\n",
    "        self.token = token\n",
    "        self.user_id = user_id\n",
    "    \n",
    "    def get_common_params(self):\n",
    "        return {\n",
    "            'access_token': self.token,\n",
    "            'v': '5.131'\n",
    "        }\n",
    "    def _build_url(self, api_method):\n",
    "        return f'{self.API_BASE_URL}/{api_method}'\n",
    "            \n",
    "    \n",
    "   \n",
    "    \n",
    "    def get_profile_photos(self):\n",
    "        params = self.get_common_params()\n",
    "        params.update({'owner_id': self.user_id, 'album_id': 'profile'})\n",
    "        \n",
    "        dict_photo = {}\n",
    "        photo_link = []\n",
    "        res_lists = []\n",
    "        photo_size = []\n",
    "        response = (requests.get(self._build_url('photos.get'), params=params).json().get('response').get('items'))\n",
    "\n",
    "        for i in response:\n",
    "             for g in i['sizes']:\n",
    "                 \n",
    "                 \n",
    "                photo_size.append(list(g.items()))\n",
    "                \n",
    "        for i in photo_size:\n",
    "            \n",
    "            \n",
    "            res_lists.append([i[0][1] * i[2][1], i[3][1]])\n",
    "      \n",
    "        for k in sorted(res_lists, key=itemgetter(0), reverse=True)[0:photo_number]:\n",
    "            photo_link.append(k[1])\n",
    "     \n",
    "        return photo_link\n",
    "        \n",
    "    def YaUploader(self):\n",
    "        for i in self.get_profile_photos():\n",
    "            token_ya = open(\"token\").read()\n",
    "            url = \"https://cloud-api.yandex.net/v1/disk/resources/upload\"\n",
    "            params_ = {\"path\": 'Test/1.gpeg'}\n",
    "            headers= {\"Authorization\": f\"OAuth {token_ya}\"}\n",
    "            response = requests.get(url, headers=headers, params=params_)\n",
    "            data = response.json()\n",
    "\n",
    "            data.get('href')\n",
    "         \n",
    "            url2 = data.get('href')\n",
    "            print(i)\n",
    "            \n",
    "            \n",
    "        \n",
    "            headers = {'Content-Type': 'application/json', 'Authorization': f'OAuth {token_ya}'}\n",
    "            params = {'path': url2, 'url': i, 'disable_redirects': True}\n",
    "            res = requests.post(url, params=params, headers=headers)\n",
    "            \n",
    "            \n",
    "            \n",
    "            \n",
    "            \n",
    "           \n",
    "            print(res.status_code)\n",
    "            \n",
    "            \n",
    "        \n",
    "        \n",
    "        \n",
    "            "
   ]
  },
  {
   "cell_type": "code",
   "execution_count": 25,
   "metadata": {},
   "outputs": [
    {
     "name": "stdout",
     "output_type": "stream",
     "text": [
      "https://sun9-28.userapi.com/impf/c628330/v628330452/38f4e/T9hAAxY4Mr8.jpg?size=2560x1440&quality=96&sign=8f5b03609d798ee37fc1f31d441755c4&c_uniq_tag=JD8DOO0R_pVORLHRSzwHnWgj23hTY0drXNUvvyYQr-I&type=album\n",
      "400\n"
     ]
    }
   ],
   "source": [
    "import pprint\n",
    "#{'album_id': -6, 'date': 1340514826, 'id': 285452244, 'owner_id': 2060452, 'post_id': 12, 'sizes': [{'height': 130, 'type': 'm', 'width': 112, 'url': 'https://sun9-66.userapi.com/impf/HdZ-gOaRh44Hquq_5O4hQZIbtovZd3tx4ugVmQ/cN409iXB8qc.jpg?size=112x130&quality=96&sign=a425ddaa2fba7026f330bc0dd7b2cd2b&c_uniq_tag=mkvKbe4iNpiVXcRAvSveEeyrL4vavlhph4rjVTr5vPA&type=album'}, {'height': 150, 'type': 'o', 'width': 130, 'url': 'https://sun9-66.userapi.com/impf/HdZ-gOaRh44Hquq_5O4hQZIbtovZd3tx4ugVmQ/cN409iXB8qc.jpg?size=130x150&quality=96&sign=f2a9bfe0570f615fe417aeb74cf9e2d3&c_uniq_tag=Sqx4J628QywnEv7CrvzmdjaCUHwc35TvpCMMW_JHg_Q&type=album'}, {'height': 231, 'type': 'p', 'width': 200, 'url': 'https://sun9-66.userapi.com/impf/HdZ-gOaRh44Hquq_5O4hQZIbtovZd3tx4ugVmQ/cN409iXB8qc.jpg?size=200x231&quality=96&sign=cc353556dedf186e8b6ed72949a4eca5&c_uniq_tag=Akq1F_mttjBbI1t4jANzbtL6IldaSrZ3vETZhguKVAc&type=album'}, {'height': 370, 'type': 'q', 'width': 320, 'url': 'https://sun9-66.userapi.com/impf/HdZ-gOaRh44Hquq_5O4hQZIbtovZd3tx4ugVmQ/cN409iXB8qc.jpg?size=320x370&quality=96&sign=81278b5ce3baea03915626874638c34c&c_uniq_tag=h48T-fmM0Q3n8FLbLzQNwNDtARWiefLxEUs-VyxJJRU&type=album'}, {'height': 578, 'type': 'r', 'width': 500, 'url': 'https://sun9-66.userapi.com/impf/HdZ-gOaRh44Hquq_5O4hQZIbtovZd3tx4ugVmQ/cN409iXB8qc.jpg?size=500x578&quality=96&sign=40f9e422e6a01f4122beee0762c1fd5d&c_uniq_tag=vJGOv-9V4ItL4i1otMpUiCwSvzCNP6Y2vS9ANNkAyAg&type=album'}, {'height': 75, 'type': 's', 'width': 65, 'url': 'https://sun9-66.userapi.com/impf/HdZ-gOaRh44Hquq_5O4hQZIbtovZd3tx4ugVmQ/cN409iXB8qc.jpg?size=65x75&quality=96&sign=756c2032470aae3ac841e273a9f77598&c_uniq_tag=81fQq7vK47MQLAbqVl_tsse4N3kE7B9bHtAxu172kjM&type=album'}, {'height': 578, 'type': 'x', 'width': 500, 'url': 'https://sun9-66.userapi.com/impf/HdZ-gOaRh44Hquq_5O4hQZIbtovZd3tx4ugVmQ/cN409iXB8qc.jpg?size=500x578&quality=96&sign=40f9e422e6a01f4122beee0762c1fd5d&c_uniq_tag=vJGOv-9V4ItL4i1otMpUiCwSvzCNP6Y2vS9ANNkAyAg&type=album'}], 'text': '', 'has_tags': False}\n",
    "#{'album_id': -6, 'date': 1410625250, 'id': 340935015, 'owner_id': 2060452, 'post_id': 18, 'sizes': [{'height': 130, 'type': 'm', 'width': 97, 'url': 'https://sun9-62.userapi.com/impf/c622821/v622821452/161f/WQu75pjDkYo.jpg?size=97x130&quality=96&sign=dbcc21bd3428497264f7536b4fbca06e&c_uniq_tag=Vg_K5sgfh4v9F6b6j46Tb7s9LHndMntckq2g3ng0ys4&type=album'}, {'height': 173, 'type': 'o', 'width': 130, 'url': 'https://sun9-62.userapi.com/impf/c622821/v622821452/161f/WQu75pjDkYo.jpg?size=130x173&quality=96&sign=75102b9cbfe1963c691cf2deb6faa640&c_uniq_tag=0Z96JfU-96_X2c0Qb5Mrjb9asuFABtDy3RxhmNvIjJI&type=album'}, {'height': 267, 'type': 'p', 'width': 200, 'url': 'https://sun9-62.userapi.com/impf/c622821/v622821452/161f/WQu75pjDkYo.jpg?size=200x267&quality=96&sign=5eac7e5f22f41ac3fb0d6243d52ed4af&c_uniq_tag=l5UuuO07rPacfeX5JNTF6FDB_4-PLO8Sh46KjbUAIGk&type=album'}, {'height': 427, 'type': 'q', 'width': 320, 'url': 'https://sun9-62.userapi.com/impf/c622821/v622821452/161f/WQu75pjDkYo.jpg?size=320x427&quality=96&sign=2031aaf755d00e9e58903e0048d613d9&c_uniq_tag=meeqTBYKcx-JEdZfPjnQhxGUVEYJkrmPQt44KLjJHy4&type=album'}, {'height': 680, 'type': 'r', 'width': 510, 'url': 'https://sun9-62.userapi.com/impf/c622821/v622821452/161f/WQu75pjDkYo.jpg?size=510x680&quality=96&sign=4043fda743af9355af786d50fe828b38&c_uniq_tag=b_IVL9JWpasZQ8E7vJ9CJwpWtaVsCX0doEvf3wVy_zo&type=album'}, {'height': 75, 'type': 's', 'width': 56, 'url': 'https://sun9-62.userapi.com/impf/c622821/v622821452/161f/WQu75pjDkYo.jpg?size=56x75&quality=96&sign=7b60ef64f55005ff7c898c60a8e1e132&c_uniq_tag=L-uB990ZvRodzdIVt-p4LIhADcjgvakbAPVMhDhrI-s&type=album'}, {'height': 604, 'type': 'x', 'width': 453, 'url': 'https://sun9-62.userapi.com/impf/c622821/v622821452/161f/WQu75pjDkYo.jpg?size=453x604&quality=96&sign=d449d72c736b644e22c65a2cfd981154&c_uniq_tag=sFpVF7pKELM6nm3c6p87O_2_WmbKYf_DaRDpnHvMK1w&type=album'}, {'height': 807, 'type': 'y', 'width': 605, 'url': 'https://sun9-62.userapi.com/impf/c622821/v622821452/161f/WQu75pjDkYo.jpg?size=605x807&quality=96&sign=f9c80873190a23861aa211247e216cb2&c_uniq_tag=NRSvAWvbXvUuixbaVCB_OwgZFGIzaMkW0z7-3OdEpOo&type=album'}, {'height': 1024, 'type': 'z', 'width': 768, 'url': 'https://sun9-62.userapi.com/impf/c622821/v622821452/161f/WQu75pjDkYo.jpg?size=768x1024&quality=96&sign=a76a8e6c106f05a0996325e22aa6ec87&c_uniq_tag=UeAg458OKJakY7WXEZEZDDUHZxtSTVhjk2BJt36vLj0&type=album'}], 'square_crop': '122,118,587', 'text': '', 'has_tags': False}\n",
    "\n",
    "if __name__ == '__main__':\n",
    "    vk_client = VkDownloader(TOKEN_vk, 2060452)\n",
    "    #print(vk_client.get_status())\n",
    "    #vk_client.replace_status('Hello world', '1')\n",
    "    \n",
    "    photo_info= vk_client.YaUploader()\n",
    "   \n",
    "    #pprint.pprint(photo_info)"
   ]
  }
 ],
 "metadata": {
  "kernelspec": {
   "display_name": "Python 3",
   "language": "python",
   "name": "python3"
  },
  "language_info": {
   "codemirror_mode": {
    "name": "ipython",
    "version": 3
   },
   "file_extension": ".py",
   "mimetype": "text/x-python",
   "name": "python",
   "nbconvert_exporter": "python",
   "pygments_lexer": "ipython3",
   "version": "3.11.4"
  },
  "orig_nbformat": 4
 },
 "nbformat": 4,
 "nbformat_minor": 2
}
